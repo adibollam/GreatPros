{
 "cells": [
  {
   "cell_type": "code",
   "execution_count": 43,
   "metadata": {},
   "outputs": [
    {
     "name": "stdout",
     "output_type": "stream",
     "text": [
      "<_sre.SRE_Match object; span=(0, 70), match=\"'http://google.com/a54w3/zipcode=85048/10dk20kd02>\n"
     ]
    },
    {
     "data": {
      "text/plain": [
       "'03/01/17,85048,None'"
      ]
     },
     "execution_count": 43,
     "metadata": {},
     "output_type": "execute_result"
    }
   ],
   "source": [
    "import re\n",
    "from datetime import datetime\n",
    "\n",
    "line = \"'A','B','C','03/01/17 04:20','http://google.com/a54w3/zipcode=85048/10dk20kd0234b/jobType=handyman'\"\n",
    "\n",
    "colnum = [3,4]\n",
    "\n",
    "\n",
    "def getDate(datecol):\n",
    "    return datetime.strptime(datecol, '%d/%m/%y %I:%M').strftime('%d/%m/%y')\n",
    "    \n",
    "    \n",
    "def getZip(address):\n",
    "    zipcode = re.match('.*(\\d{5})', address)  \n",
    "    \n",
    "    return str(zipcode.groups(0)[0])\n",
    "    \n",
    "def getjobType(address):   \n",
    "    jobType = re.match('.*', address)\n",
    "    print(jobType)\n",
    "    \n",
    "    return 'None'\n",
    "\n",
    "def getNewRow(line):\n",
    "    tokenize = re.compile('[,]')\n",
    "    columns = tokenize.split(line)\n",
    "    output_row_string = getDate(columns[colnum[0]].strip(\"'\")) + ',' + getZip(columns[colnum[1]]) + ',' + getjobType(columns[colnum[1]])\n",
    "    return output_row_string\n",
    "\n",
    "\n",
    "getNewRow(line)"
   ]
  },
  {
   "cell_type": "code",
   "execution_count": null,
   "metadata": {
    "collapsed": true
   },
   "outputs": [],
   "source": []
  }
 ],
 "metadata": {
  "kernelspec": {
   "display_name": "Python 3",
   "language": "python",
   "name": "python3"
  },
  "language_info": {
   "codemirror_mode": {
    "name": "ipython",
    "version": 3
   },
   "file_extension": ".py",
   "mimetype": "text/x-python",
   "name": "python",
   "nbconvert_exporter": "python",
   "pygments_lexer": "ipython3",
   "version": "3.6.2"
  }
 },
 "nbformat": 4,
 "nbformat_minor": 2
}
