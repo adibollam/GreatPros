{
 "cells": [
  {
   "cell_type": "code",
   "execution_count": 45,
   "metadata": {},
   "outputs": [
    {
     "data": {
      "text/plain": [
       "'12/07/2017,80634,replace'"
      ]
     },
     "execution_count": 45,
     "metadata": {},
     "output_type": "execute_result"
    }
   ],
   "source": [
    "import re\n",
    "from datetime import datetime\n",
    "\n",
    "line = '\"A\",\"B\",\"C\",\"12/7/2017 11:54:56 PM\",\"https://grp.leadcapsule.com/Leads/LeadPing.aspx&<br>Zip=80634&<br>HVACAdditionalInfo=Central Heating Natural Gas Fired&<br>CampaignId=374848B15E017C4FCBEE7704C612FBAD&<br>HVACjobtype=replace\"'\n",
    "\n",
    "colnum = [3,4]\n",
    "\n",
    "\n",
    "def getDate(datecol):\n",
    "    return datetime.strptime(datecol, '%m/%d/%Y %I:%M:%S %p').strftime('%m/%d/%Y')\n",
    "    \n",
    "    \n",
    "def getZip(address):\n",
    "    zipcode = re.match('.*(Zip=)', address) \n",
    "\n",
    "    return str(address[zipcode.span()[1]: zipcode.span()[1] + 5])\n",
    "    \n",
    "def getjobType(address):\n",
    "    jobType = re.match('.*(jobtype=)', address)\n",
    "    return str(address[jobType.span()[1]:len(address) - 1])\n",
    "\n",
    "def getNewRow(line):\n",
    "    tokenize = re.compile('[,]')\n",
    "    columns = tokenize.split(line)\n",
    "    output_row_string = getDate(columns[colnum[0]].strip('\"')) + ',' + getZip(columns[colnum[1]]) + ',' + getjobType(columns[colnum[1]])\n",
    "    return output_row_string\n",
    "\n",
    "\n",
    "getNewRow(line)"
   ]
  },
  {
   "cell_type": "code",
   "execution_count": null,
   "metadata": {
    "collapsed": true
   },
   "outputs": [],
   "source": []
  }
 ],
 "metadata": {
  "kernelspec": {
   "display_name": "Python 3",
   "language": "python",
   "name": "python3"
  },
  "language_info": {
   "codemirror_mode": {
    "name": "ipython",
    "version": 3
   },
   "file_extension": ".py",
   "mimetype": "text/x-python",
   "name": "python",
   "nbconvert_exporter": "python",
   "pygments_lexer": "ipython3",
   "version": "3.6.2"
  }
 },
 "nbformat": 4,
 "nbformat_minor": 2
}
